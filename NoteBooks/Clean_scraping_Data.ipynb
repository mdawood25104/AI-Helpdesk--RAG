{
  "cells": [
    {
      "cell_type": "code",
      "execution_count": 8,
      "metadata": {
        "colab": {
          "base_uri": "https://localhost:8080/",
          "height": 17
        },
        "id": "OhbUvW0nTQTd",
        "outputId": "b2946d1e-264d-4834-8c5f-ea8d586ebd38"
      },
      "outputs": [
        {
          "data": {
            "application/javascript": "\n    async function download(id, filename, size) {\n      if (!google.colab.kernel.accessAllowed) {\n        return;\n      }\n      const div = document.createElement('div');\n      const label = document.createElement('label');\n      label.textContent = `Downloading \"${filename}\": `;\n      div.appendChild(label);\n      const progress = document.createElement('progress');\n      progress.max = size;\n      div.appendChild(progress);\n      document.body.appendChild(div);\n\n      const buffers = [];\n      let downloaded = 0;\n\n      const channel = await google.colab.kernel.comms.open(id);\n      // Send a message to notify the kernel that we're ready.\n      channel.send({})\n\n      for await (const message of channel.messages) {\n        // Send a message to notify the kernel that we're ready.\n        channel.send({})\n        if (message.buffers) {\n          for (const buffer of message.buffers) {\n            buffers.push(buffer);\n            downloaded += buffer.byteLength;\n            progress.value = downloaded;\n          }\n        }\n      }\n      const blob = new Blob(buffers, {type: 'application/binary'});\n      const a = document.createElement('a');\n      a.href = window.URL.createObjectURL(blob);\n      a.download = filename;\n      div.appendChild(a);\n      a.click();\n      div.remove();\n    }\n  ",
            "text/plain": [
              "<IPython.core.display.Javascript object>"
            ]
          },
          "metadata": {},
          "output_type": "display_data"
        },
        {
          "data": {
            "application/javascript": "download(\"download_0c53afb4-aa7a-42b8-bc14-57462edd9dcc\", \"Clean_Scrape_data.pdf\", 5306853)",
            "text/plain": [
              "<IPython.core.display.Javascript object>"
            ]
          },
          "metadata": {},
          "output_type": "display_data"
        }
      ],
      "source": [
        "from fpdf import FPDF\n",
        "import re\n",
        "from google.colab import files\n",
        "\n",
        "# Function to clean and format text\n",
        "\n",
        "\n",
        "def advanced_cleaning(text):\n",
        "    # Remove HTML tags (if any)\n",
        "    text = re.sub(r'<.*?>', '', text)  # Remove all HTML tags\n",
        "    # Replace non-alphanumeric characters (except spaces) with space\n",
        "    text = re.sub(r'[^\\w\\s]', ' ', text)\n",
        "    # Normalize spaces (replace multiple spaces with a single one)\n",
        "    text = re.sub(r'\\s+', ' ', text).strip()\n",
        "    return text\n",
        "\n",
        "# Function to create a PDF from text\n",
        "\n",
        "\n",
        "def text_to_pdf(text, output_pdf):\n",
        "    # Create a PDF instance\n",
        "    pdf = FPDF()\n",
        "    pdf.set_auto_page_break(auto=True, margin=15)\n",
        "    pdf.add_page()\n",
        "\n",
        "    # Set font and encoding\n",
        "    pdf.set_font(\"Arial\", size=12)\n",
        "    pdf.set_text_color(0, 0, 0)  # Set text color to black\n",
        "    # Explicitly set the encoding to UTF-8\n",
        "    # Add Arial font with Unicode support\n",
        "    pdf.add_font(\n",
        "        'Arial', '', '/usr/share/fonts/truetype/msttcorefonts/arial.ttf', uni=True)\n",
        "    pdf.set_font('Arial', '', 12)\n",
        "\n",
        "    # Add text in PDF, ensuring it's split properly across lines\n",
        "    # Encode the text to UTF-8 before adding to the PDF\n",
        "    pdf.multi_cell(0, 10, text.encode('utf-8').decode('latin-1'))\n",
        "\n",
        "    # Save PDF\n",
        "    pdf.output(output_pdf)\n",
        "\n",
        "# Function to read input text and clean it\n",
        "\n",
        "\n",
        "def process_and_create_pdf(input_file, output_pdf):\n",
        "    # Read the input text file\n",
        "    with open(input_file, \"r\", encoding=\"utf-8\") as file:\n",
        "        content = file.read()\n",
        "\n",
        "    # Clean the text\n",
        "    cleaned_data = advanced_cleaning(content)\n",
        "\n",
        "    # Create PDF with the cleaned text\n",
        "    text_to_pdf(cleaned_data, output_pdf)\n",
        "\n",
        "\n",
        "input_file = '/content/raw_scraped_data.txt'\n",
        "\n",
        "# Output PDF name\n",
        "output_pdf = 'Clean_Scrape_data.pdf'\n",
        "\n",
        "# Process the file and generate PDF\n",
        "process_and_create_pdf(input_file, output_pdf)\n",
        "\n",
        "# Option to download the generated PDF from Colab\n",
        "files.download(output_pdf)"
      ]
    }
  ],
  "metadata": {
    "accelerator": "TPU",
    "colab": {
      "gpuType": "V28",
      "provenance": []
    },
    "kernelspec": {
      "display_name": "Python 3",
      "name": "python3"
    },
    "language_info": {
      "name": "python"
    }
  },
  "nbformat": 4,
  "nbformat_minor": 0
}
