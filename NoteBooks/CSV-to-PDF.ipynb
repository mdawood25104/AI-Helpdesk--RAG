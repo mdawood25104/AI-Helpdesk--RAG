{
  "cells": [
    {
      "cell_type": "code",
      "execution_count": 2,
      "metadata": {
        "colab": {
          "base_uri": "https://localhost:8080/"
        },
        "id": "el27GO-YPQ5-",
        "outputId": "f0b9c80d-6170-4552-b939-e5c603d35c52"
      },
      "outputs": [
        {
          "name": "stdout",
          "output_type": "stream",
          "text": [
            "Collecting fpdf\n",
            "  Downloading fpdf-1.7.2.tar.gz (39 kB)\n",
            "  Preparing metadata (setup.py) ... \u001b[?25l\u001b[?25hdone\n",
            "Building wheels for collected packages: fpdf\n",
            "  Building wheel for fpdf (setup.py) ... \u001b[?25l\u001b[?25hdone\n",
            "  Created wheel for fpdf: filename=fpdf-1.7.2-py2.py3-none-any.whl size=40704 sha256=b97d45f5abdb57910450056d07f948e2b7ac9b7ef780b9bed3833ecd62f0c203\n",
            "  Stored in directory: /root/.cache/pip/wheels/f9/95/ba/f418094659025eb9611f17cbcaf2334236bf39a0c3453ea455\n",
            "Successfully built fpdf\n",
            "Installing collected packages: fpdf\n",
            "Successfully installed fpdf-1.7.2\n"
          ]
        }
      ],
      "source": [
        "!pip install fpdf"
      ]
    },
    {
      "cell_type": "code",
      "execution_count": null,
      "metadata": {
        "colab": {
          "base_uri": "https://localhost:8080/"
        },
        "id": "ffRHVnFWO35A",
        "outputId": "b23f62c6-ce02-4e60-a3bf-042e31f05baf"
      },
      "outputs": [],
      "source": [
        "import pandas as pd\n",
        "from fpdf import FPDF\n",
        "\n",
        "\n",
        "def excel_to_pdf_problems_solutions(csv_file, pdf_file):\n",
        "    try:\n",
        "        df = pd.read_csv(csv_file)\n",
        "\n",
        "        if \"Problem Statement\" not in df.columns or \"Suggestion/Solution\" not in df.columns:\n",
        "            raise ValueError(\n",
        "                \"The Excel file must contain 'Problem Statement' and 'Suggestion/Solution' columns.\")\n",
        "\n",
        "        pdf = FPDF()\n",
        "        pdf.set_auto_page_break(auto=True, margin=15)\n",
        "        pdf.add_page()\n",
        "        pdf.set_font(\"Arial\", size=12)\n",
        "        for index, row in df.iterrows():\n",
        "\n",
        "            pdf.set_font(\"Arial\", style=\"B\", size=12)\n",
        "            pdf.multi_cell(0, 10, f\"Problem Statement: {\n",
        "                           row['Problem Statement']}\", border=0)\n",
        "\n",
        "            pdf.set_font(\"Arial\", size=12)\n",
        "            pdf.multi_cell(\n",
        "                0, 10, f\"Suggestion/Solution: {row['Suggestion/Solution']}\", border=0)\n",
        "\n",
        "            pdf.ln(5)\n",
        "\n",
        "        pdf.output(pdf_file)\n",
        "        print(f\"PDF saved as {pdf_file}\")\n",
        "\n",
        "    except Exception as e:\n",
        "        print(f\"Error: {e}\")\n",
        "\n",
        "\n",
        "csv_file = \"/content/Clean-Dataset.csv\"\n",
        "pdf_file = \"DataSet.pdf\"\n",
        "excel_to_pdf_problems_solutions(csv_file, pdf_file)"
      ]
    },
    {
      "cell_type": "code",
      "execution_count": null,
      "metadata": {
        "id": "GDqxvnKPPOkK"
      },
      "outputs": [],
      "source": []
    }
  ],
  "metadata": {
    "colab": {
      "provenance": []
    },
    "kernelspec": {
      "display_name": "Python 3",
      "name": "python3"
    },
    "language_info": {
      "name": "python"
    }
  },
  "nbformat": 4,
  "nbformat_minor": 0
}
